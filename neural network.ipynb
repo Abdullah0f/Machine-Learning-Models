{
 "cells": [
  {
   "cell_type": "code",
   "execution_count": 147,
   "metadata": {},
   "outputs": [],
   "source": [
    "import tensorflow as tf\n",
    "from tensorflow.keras.models import Sequential\n",
    "from tensorflow.keras.layers import Dense\n",
    "import numpy as np\n",
    "import matplotlib.pyplot as plt\n",
    "import pandas as pd"
   ]
  },
  {
   "cell_type": "code",
   "execution_count": 148,
   "metadata": {},
   "outputs": [],
   "source": [
    "# read data from file\n",
    "file_path = './data/heart.csv'\n",
    "data = pd.read_csv(file_path, header=0)\n",
    "\n",
    "\n",
    "# shuffle data\n",
    "data = data.sample(frac=1)\n",
    "\n",
    "\n",
    "# split data into x_train and y_train\n",
    "x_train = data.iloc[:, :-1].values\n",
    "y_train = data.iloc[:, -1].values\n"
   ]
  },
  {
   "cell_type": "code",
   "execution_count": 149,
   "metadata": {},
   "outputs": [
    {
     "name": "stdout",
     "output_type": "stream",
     "text": [
      "(243, 13) (243,) (60, 13) (60,)\n"
     ]
    }
   ],
   "source": [
    "# split data to train and test\n",
    "test_size = 0.2\n",
    "test_count = int(len(x_train) * test_size)\n",
    "\n",
    "# split data\n",
    "x_test = x_train[:test_count]\n",
    "y_test = y_train[:test_count]\n",
    "x_train = x_train[test_count:]\n",
    "y_train = y_train[test_count:]\n",
    "\n",
    "print(x_train.shape, y_train.shape, x_test.shape, y_test.shape)"
   ]
  },
  {
   "cell_type": "code",
   "execution_count": 150,
   "metadata": {},
   "outputs": [
    {
     "name": "stdout",
     "output_type": "stream",
     "text": [
      "tf.Tensor(\n",
      "[[ 0.38011557 -1.4966629   1.0601641  -0.6516637   1.841484   -0.41020632\n",
      "   0.91923875  0.9881739  -0.7136643  -0.91368604  0.99059266 -0.7328202\n",
      "  -0.4858548 ]\n",
      " [ 1.3627542  -1.4966629   1.0601641  -0.9363712   6.2554016  -0.41020632\n",
      "  -0.9899494   0.4788022  -0.7136643   0.41630706 -0.63585377 -0.7328202\n",
      "   1.109587  ]\n",
      " [ 1.035208   -1.4966629  -0.89150155 -0.08224873  1.1123992  -0.41020632\n",
      "   0.91923875 -1.1342081  -0.7136643   0.74880534 -0.63585377  1.2793305\n",
      "  -0.4858548 ]], shape=(3, 13), dtype=float32)\n"
     ]
    }
   ],
   "source": [
    "# normalize data\n",
    "norm_l = tf.keras.layers.experimental.preprocessing.Normalization()\n",
    "norm_l.adapt(x_train)\n",
    "original_x = x_train\n",
    "x_train = norm_l(x_train)\n",
    "x_test = norm_l(x_test)\n",
    "print(x_train[0:3])"
   ]
  },
  {
   "cell_type": "code",
   "execution_count": 151,
   "metadata": {},
   "outputs": [
    {
     "name": "stdout",
     "output_type": "stream",
     "text": [
      "(24300, 13) (24300,) (6000, 13) (6000,)\n"
     ]
    }
   ],
   "source": [
    "# tile data\n",
    "x_train = tf.tile(x_train, (100,1))\n",
    "x_test = tf.tile(x_test, (100,1))\n",
    "y_train = tf.tile(y_train, [100])\n",
    "y_test = tf.tile(y_test, [100])\n",
    "print(x_train.shape, y_train.shape, x_test.shape, y_test.shape)"
   ]
  },
  {
   "cell_type": "code",
   "execution_count": 152,
   "metadata": {},
   "outputs": [
    {
     "name": "stdout",
     "output_type": "stream",
     "text": [
      "Model: \"sequential_15\"\n",
      "_________________________________________________________________\n",
      " Layer (type)                Output Shape              Param #   \n",
      "=================================================================\n",
      " dense_37 (Dense)            (None, 10)                140       \n",
      "                                                                 \n",
      " dense_38 (Dense)            (None, 10)                110       \n",
      "                                                                 \n",
      " dense_39 (Dense)            (None, 1)                 11        \n",
      "                                                                 \n",
      "=================================================================\n",
      "Total params: 261\n",
      "Trainable params: 261\n",
      "Non-trainable params: 0\n",
      "_________________________________________________________________\n"
     ]
    }
   ],
   "source": [
    "# build model\n",
    "model = Sequential()\n",
    "model.add(Dense(10, input_shape=(x_train.shape[1] ,), activation='sigmoid'))\n",
    "model.add(Dense(1, activation='sigmoid'))\n",
    "model.summary()"
   ]
  },
  {
   "cell_type": "code",
   "execution_count": 153,
   "metadata": {},
   "outputs": [
    {
     "name": "stdout",
     "output_type": "stream",
     "text": [
      "Epoch 1/10\n",
      "760/760 [==============================] - 2s 1ms/step - loss: 0.2975\n",
      "Epoch 2/10\n",
      "760/760 [==============================] - 1s 2ms/step - loss: 0.0503\n",
      "Epoch 3/10\n",
      "760/760 [==============================] - 1s 1ms/step - loss: 0.0047\n",
      "Epoch 4/10\n",
      "760/760 [==============================] - 1s 1ms/step - loss: 0.0014\n",
      "Epoch 5/10\n",
      "760/760 [==============================] - 1s 1ms/step - loss: 6.1811e-04\n",
      "Epoch 6/10\n",
      "760/760 [==============================] - 1s 2ms/step - loss: 3.1799e-04\n",
      "Epoch 7/10\n",
      "760/760 [==============================] - 1s 2ms/step - loss: 1.7985e-04\n",
      "Epoch 8/10\n",
      "760/760 [==============================] - 1s 1ms/step - loss: 1.0732e-04\n",
      "Epoch 9/10\n",
      "760/760 [==============================] - 1s 1ms/step - loss: 6.6722e-05\n",
      "Epoch 10/10\n",
      "760/760 [==============================] - 1s 1ms/step - loss: 4.2172e-05\n"
     ]
    },
    {
     "data": {
      "text/plain": [
       "<keras.callbacks.History at 0x140cea1da80>"
      ]
     },
     "execution_count": 153,
     "metadata": {},
     "output_type": "execute_result"
    }
   ],
   "source": [
    "# compile model\n",
    "model.compile(\n",
    "    loss = tf.keras.losses.BinaryCrossentropy(),\n",
    "    optimizer = tf.keras.optimizers.Adam(learning_rate=0.01),\n",
    ")\n",
    "\n",
    "model.fit(\n",
    "    x_train,y_train,            \n",
    "    epochs=10,\n",
    ")"
   ]
  },
  {
   "cell_type": "code",
   "execution_count": 154,
   "metadata": {},
   "outputs": [
    {
     "name": "stdout",
     "output_type": "stream",
     "text": [
      "188/188 [==============================] - 0s 1ms/step\n",
      "760/760 [==============================] - 1s 1ms/step\n",
      "Train accuracy: 1.0\n",
      "Test accuracy: 0.8\n"
     ]
    }
   ],
   "source": [
    "# predict\n",
    "def predict(x):\n",
    "    return tf.reshape(tf.cast(model.predict(x) > 0.5, tf.int32), [-1])\n",
    "\n",
    "yte_pred = predict(x_test)\n",
    "ytr_pred = predict(x_train)\n",
    "\n",
    "# accuracy\n",
    "train_accuracy = tf.reduce_mean(tf.cast(tf.equal(ytr_pred, tf.cast(y_train, tf.int32)), tf.float32))\n",
    "test_accuracy = tf.reduce_mean(tf.cast(tf.equal(yte_pred, tf.cast(y_test, tf.int32)), tf.float32))\n",
    "\n",
    "print(\"Train accuracy:\", train_accuracy.numpy())\n",
    "print(\"Test accuracy:\", test_accuracy.numpy())\n"
   ]
  }
 ],
 "metadata": {
  "kernelspec": {
   "display_name": "Python 3",
   "language": "python",
   "name": "python3"
  },
  "language_info": {
   "codemirror_mode": {
    "name": "ipython",
    "version": 3
   },
   "file_extension": ".py",
   "mimetype": "text/x-python",
   "name": "python",
   "nbconvert_exporter": "python",
   "pygments_lexer": "ipython3",
   "version": "3.10.5"
  },
  "orig_nbformat": 4
 },
 "nbformat": 4,
 "nbformat_minor": 2
}
